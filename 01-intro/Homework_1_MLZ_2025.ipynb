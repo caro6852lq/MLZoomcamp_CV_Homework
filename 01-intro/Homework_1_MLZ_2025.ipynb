{
 "cells": [
  {
   "cell_type": "markdown",
   "id": "b6b7ee91-57f4-4cf3-b577-bc5517dd91c6",
   "metadata": {},
   "source": [
    "## Homework 1: Introduction to Machine Learning for Machine Learning Zoomcamp 2025"
   ]
  },
  {
   "cell_type": "markdown",
   "id": "2397f9ab-0ebc-42b0-84d2-ae9b381106df",
   "metadata": {},
   "source": [
    "### Q1. Pandas version"
   ]
  },
  {
   "cell_type": "code",
   "execution_count": 1,
   "id": "ebc128f7-5445-41de-953e-2071f097dabe",
   "metadata": {},
   "outputs": [],
   "source": [
    "import pandas as pd"
   ]
  },
  {
   "cell_type": "code",
   "execution_count": 2,
   "id": "86d274ca-ea1f-4bc1-80e2-510ac1832aed",
   "metadata": {},
   "outputs": [
    {
     "data": {
      "text/plain": [
       "'2.3.1'"
      ]
     },
     "execution_count": 2,
     "metadata": {},
     "output_type": "execute_result"
    }
   ],
   "source": [
    "pd.__version__"
   ]
  },
  {
   "cell_type": "markdown",
   "id": "87c23bd4-80e6-414b-b3b9-90824c0562cb",
   "metadata": {},
   "source": [
    "R1: '2.3.1'"
   ]
  },
  {
   "cell_type": "markdown",
   "id": "9022b92e-9002-498d-9c26-1ed441b55dcf",
   "metadata": {},
   "source": [
    "#### Getting Data"
   ]
  },
  {
   "cell_type": "code",
   "execution_count": 3,
   "id": "77190570-88e1-423d-9865-95c88c536d08",
   "metadata": {},
   "outputs": [],
   "source": [
    "# data ='https://raw.githubusercontent.com/alexeygrigorev/datasets/master/car_fuel_efficiency.csv'"
   ]
  },
  {
   "cell_type": "code",
   "execution_count": 4,
   "id": "43af58a1-3900-46e3-91f5-c93929d90672",
   "metadata": {},
   "outputs": [],
   "source": [
    "# !wget $data "
   ]
  },
  {
   "cell_type": "code",
   "execution_count": 5,
   "id": "1f8abee5-ec77-4485-afdd-d85b052eb01e",
   "metadata": {},
   "outputs": [],
   "source": [
    "df = pd.read_csv('car_fuel_efficiency.csv')"
   ]
  },
  {
   "cell_type": "code",
   "execution_count": 6,
   "id": "76816fe1-1e80-4e77-a11c-ab03570b1007",
   "metadata": {},
   "outputs": [
    {
     "data": {
      "text/html": [
       "<div>\n",
       "<style scoped>\n",
       "    .dataframe tbody tr th:only-of-type {\n",
       "        vertical-align: middle;\n",
       "    }\n",
       "\n",
       "    .dataframe tbody tr th {\n",
       "        vertical-align: top;\n",
       "    }\n",
       "\n",
       "    .dataframe thead th {\n",
       "        text-align: right;\n",
       "    }\n",
       "</style>\n",
       "<table border=\"1\" class=\"dataframe\">\n",
       "  <thead>\n",
       "    <tr style=\"text-align: right;\">\n",
       "      <th></th>\n",
       "      <th>engine_displacement</th>\n",
       "      <th>num_cylinders</th>\n",
       "      <th>horsepower</th>\n",
       "      <th>vehicle_weight</th>\n",
       "      <th>acceleration</th>\n",
       "      <th>model_year</th>\n",
       "      <th>origin</th>\n",
       "      <th>fuel_type</th>\n",
       "      <th>drivetrain</th>\n",
       "      <th>num_doors</th>\n",
       "      <th>fuel_efficiency_mpg</th>\n",
       "    </tr>\n",
       "  </thead>\n",
       "  <tbody>\n",
       "    <tr>\n",
       "      <th>0</th>\n",
       "      <td>170</td>\n",
       "      <td>3.0</td>\n",
       "      <td>159.0</td>\n",
       "      <td>3413.433759</td>\n",
       "      <td>17.7</td>\n",
       "      <td>2003</td>\n",
       "      <td>Europe</td>\n",
       "      <td>Gasoline</td>\n",
       "      <td>All-wheel drive</td>\n",
       "      <td>0.0</td>\n",
       "      <td>13.231729</td>\n",
       "    </tr>\n",
       "    <tr>\n",
       "      <th>1</th>\n",
       "      <td>130</td>\n",
       "      <td>5.0</td>\n",
       "      <td>97.0</td>\n",
       "      <td>3149.664934</td>\n",
       "      <td>17.8</td>\n",
       "      <td>2007</td>\n",
       "      <td>USA</td>\n",
       "      <td>Gasoline</td>\n",
       "      <td>Front-wheel drive</td>\n",
       "      <td>0.0</td>\n",
       "      <td>13.688217</td>\n",
       "    </tr>\n",
       "  </tbody>\n",
       "</table>\n",
       "</div>"
      ],
      "text/plain": [
       "   engine_displacement  num_cylinders  horsepower  vehicle_weight  \\\n",
       "0                  170            3.0       159.0     3413.433759   \n",
       "1                  130            5.0        97.0     3149.664934   \n",
       "\n",
       "   acceleration  model_year  origin fuel_type         drivetrain  num_doors  \\\n",
       "0          17.7        2003  Europe  Gasoline    All-wheel drive        0.0   \n",
       "1          17.8        2007     USA  Gasoline  Front-wheel drive        0.0   \n",
       "\n",
       "   fuel_efficiency_mpg  \n",
       "0            13.231729  \n",
       "1            13.688217  "
      ]
     },
     "execution_count": 6,
     "metadata": {},
     "output_type": "execute_result"
    }
   ],
   "source": [
    "df.head(2)"
   ]
  },
  {
   "cell_type": "markdown",
   "id": "ca38abc8-74b7-4e13-96a3-e7bba4dd6a89",
   "metadata": {},
   "source": [
    "### Q2. Records count"
   ]
  },
  {
   "cell_type": "code",
   "execution_count": 7,
   "id": "b0a86154-4458-4641-8266-49248a59c2b3",
   "metadata": {},
   "outputs": [
    {
     "data": {
      "text/plain": [
       "(9704, 11)"
      ]
     },
     "execution_count": 7,
     "metadata": {},
     "output_type": "execute_result"
    }
   ],
   "source": [
    "df.shape"
   ]
  },
  {
   "cell_type": "markdown",
   "id": "c4b5ffe4-d188-4564-8948-08c8974c5228",
   "metadata": {},
   "source": [
    "R2: 9704 "
   ]
  },
  {
   "cell_type": "markdown",
   "id": "9f34b87d-9342-48e2-8b44-21625ab17e00",
   "metadata": {},
   "source": [
    "### Q3. Fuel types"
   ]
  },
  {
   "cell_type": "code",
   "execution_count": 8,
   "id": "b3a539c7-159a-43aa-9ed3-e83f5915c606",
   "metadata": {},
   "outputs": [
    {
     "data": {
      "text/plain": [
       "2"
      ]
     },
     "execution_count": 8,
     "metadata": {},
     "output_type": "execute_result"
    }
   ],
   "source": [
    "df.fuel_type.nunique()"
   ]
  },
  {
   "cell_type": "code",
   "execution_count": 9,
   "id": "1604ca84-b0c2-4b28-af1a-69d95deed59a",
   "metadata": {},
   "outputs": [
    {
     "data": {
      "text/plain": [
       "fuel_type\n",
       "Gasoline    4898\n",
       "Diesel      4806\n",
       "Name: count, dtype: int64"
      ]
     },
     "execution_count": 9,
     "metadata": {},
     "output_type": "execute_result"
    }
   ],
   "source": [
    "df.fuel_type.value_counts()"
   ]
  },
  {
   "cell_type": "markdown",
   "id": "6caba301-ae0c-40da-89bc-aedd2d5f91e8",
   "metadata": {},
   "source": [
    "R3: 2"
   ]
  },
  {
   "cell_type": "markdown",
   "id": "175fc73e-158a-4484-8e09-eb07c35b3ac0",
   "metadata": {},
   "source": [
    "### Q4. Missing values"
   ]
  },
  {
   "cell_type": "code",
   "execution_count": 10,
   "id": "1deb1bb8-bb77-4fa8-838f-236a75d7a014",
   "metadata": {},
   "outputs": [
    {
     "data": {
      "text/plain": [
       "engine_displacement      0\n",
       "num_cylinders          482\n",
       "horsepower             708\n",
       "vehicle_weight           0\n",
       "acceleration           930\n",
       "model_year               0\n",
       "origin                   0\n",
       "fuel_type                0\n",
       "drivetrain               0\n",
       "num_doors              502\n",
       "fuel_efficiency_mpg      0\n",
       "dtype: int64"
      ]
     },
     "execution_count": 10,
     "metadata": {},
     "output_type": "execute_result"
    }
   ],
   "source": [
    "df.isnull().sum()"
   ]
  },
  {
   "cell_type": "markdown",
   "id": "d47f06fa-8b21-483a-a70b-329290f10d8d",
   "metadata": {},
   "source": [
    "R4: 4"
   ]
  },
  {
   "cell_type": "markdown",
   "id": "5683c864-2313-43e7-82a4-db88c9e05bbd",
   "metadata": {},
   "source": [
    "### Q5. Max fuel efficiency"
   ]
  },
  {
   "cell_type": "code",
   "execution_count": 11,
   "id": "19fb726a-84aa-40fd-8a00-7bf3aad64821",
   "metadata": {},
   "outputs": [
    {
     "data": {
      "text/plain": [
       "np.float64(23.759122836520497)"
      ]
     },
     "execution_count": 11,
     "metadata": {},
     "output_type": "execute_result"
    }
   ],
   "source": [
    "df.loc[df['origin'] == 'Asia', 'fuel_efficiency_mpg'].max()"
   ]
  },
  {
   "cell_type": "markdown",
   "id": "05359973-e72c-4a1c-9166-0e084d8d5f5a",
   "metadata": {},
   "source": [
    "R5: 23.75"
   ]
  },
  {
   "cell_type": "markdown",
   "id": "cf13f708-c42d-4445-8bd6-20b6e6691ff4",
   "metadata": {},
   "source": [
    "### Q6. Median value of horsepower"
   ]
  },
  {
   "cell_type": "code",
   "execution_count": 12,
   "id": "dfbc6bdf-262e-46e1-a998-2f13cbb14d64",
   "metadata": {},
   "outputs": [
    {
     "data": {
      "text/plain": [
       "np.float64(149.0)"
      ]
     },
     "execution_count": 12,
     "metadata": {},
     "output_type": "execute_result"
    }
   ],
   "source": [
    "median = df.horsepower.median()\n",
    "median"
   ]
  },
  {
   "cell_type": "code",
   "execution_count": 13,
   "id": "987f431d-0d30-448a-85ff-07f940a0363d",
   "metadata": {},
   "outputs": [
    {
     "data": {
      "text/plain": [
       "0    152.0\n",
       "Name: horsepower, dtype: float64"
      ]
     },
     "execution_count": 13,
     "metadata": {},
     "output_type": "execute_result"
    }
   ],
   "source": [
    "mode = df.horsepower.mode()\n",
    "mode"
   ]
  },
  {
   "cell_type": "code",
   "execution_count": 14,
   "id": "7d3919f0-ea9e-4b00-9144-9479bbb016eb",
   "metadata": {},
   "outputs": [],
   "source": [
    "df[\"horsepower\"] = df[\"horsepower\"].fillna(mode[0])"
   ]
  },
  {
   "cell_type": "code",
   "execution_count": 15,
   "id": "617cbd41-fdbd-445b-a650-e33072094211",
   "metadata": {},
   "outputs": [
    {
     "data": {
      "text/plain": [
       "np.float64(152.0)"
      ]
     },
     "execution_count": 15,
     "metadata": {},
     "output_type": "execute_result"
    }
   ],
   "source": [
    "median = df.horsepower.median()\n",
    "median"
   ]
  },
  {
   "cell_type": "code",
   "execution_count": 16,
   "id": "5ad9120d-489b-4077-85af-5612c1a764c8",
   "metadata": {},
   "outputs": [
    {
     "data": {
      "text/plain": [
       "engine_displacement      0\n",
       "num_cylinders          482\n",
       "horsepower               0\n",
       "vehicle_weight           0\n",
       "acceleration           930\n",
       "model_year               0\n",
       "origin                   0\n",
       "fuel_type                0\n",
       "drivetrain               0\n",
       "num_doors              502\n",
       "fuel_efficiency_mpg      0\n",
       "dtype: int64"
      ]
     },
     "execution_count": 16,
     "metadata": {},
     "output_type": "execute_result"
    }
   ],
   "source": [
    "df.isnull().sum()"
   ]
  },
  {
   "cell_type": "markdown",
   "id": "2cc1439a-c702-4c70-b251-9521af075e37",
   "metadata": {},
   "source": [
    "R6: Yes, it increased"
   ]
  },
  {
   "cell_type": "markdown",
   "id": "897efdca-03ca-4795-95e7-f953a002c34b",
   "metadata": {},
   "source": [
    "### Q7. Sum of weights"
   ]
  },
  {
   "cell_type": "code",
   "execution_count": 17,
   "id": "b31fa752-a63c-44d8-a21d-acf6b024a17e",
   "metadata": {},
   "outputs": [],
   "source": [
    "df_asia = df[df.origin == 'Asia']"
   ]
  },
  {
   "cell_type": "code",
   "execution_count": 18,
   "id": "e06ccf06-4c71-4b89-b321-5787b527032d",
   "metadata": {},
   "outputs": [
    {
     "data": {
      "text/html": [
       "<div>\n",
       "<style scoped>\n",
       "    .dataframe tbody tr th:only-of-type {\n",
       "        vertical-align: middle;\n",
       "    }\n",
       "\n",
       "    .dataframe tbody tr th {\n",
       "        vertical-align: top;\n",
       "    }\n",
       "\n",
       "    .dataframe thead th {\n",
       "        text-align: right;\n",
       "    }\n",
       "</style>\n",
       "<table border=\"1\" class=\"dataframe\">\n",
       "  <thead>\n",
       "    <tr style=\"text-align: right;\">\n",
       "      <th></th>\n",
       "      <th>engine_displacement</th>\n",
       "      <th>num_cylinders</th>\n",
       "      <th>horsepower</th>\n",
       "      <th>vehicle_weight</th>\n",
       "      <th>acceleration</th>\n",
       "      <th>model_year</th>\n",
       "      <th>origin</th>\n",
       "      <th>fuel_type</th>\n",
       "      <th>drivetrain</th>\n",
       "      <th>num_doors</th>\n",
       "      <th>fuel_efficiency_mpg</th>\n",
       "    </tr>\n",
       "  </thead>\n",
       "  <tbody>\n",
       "    <tr>\n",
       "      <th>8</th>\n",
       "      <td>250</td>\n",
       "      <td>1.0</td>\n",
       "      <td>174.0</td>\n",
       "      <td>2714.219310</td>\n",
       "      <td>10.3</td>\n",
       "      <td>2016</td>\n",
       "      <td>Asia</td>\n",
       "      <td>Diesel</td>\n",
       "      <td>Front-wheel drive</td>\n",
       "      <td>-1.0</td>\n",
       "      <td>16.823554</td>\n",
       "    </tr>\n",
       "    <tr>\n",
       "      <th>12</th>\n",
       "      <td>320</td>\n",
       "      <td>5.0</td>\n",
       "      <td>145.0</td>\n",
       "      <td>2783.868974</td>\n",
       "      <td>15.1</td>\n",
       "      <td>2010</td>\n",
       "      <td>Asia</td>\n",
       "      <td>Diesel</td>\n",
       "      <td>All-wheel drive</td>\n",
       "      <td>1.0</td>\n",
       "      <td>16.175820</td>\n",
       "    </tr>\n",
       "  </tbody>\n",
       "</table>\n",
       "</div>"
      ],
      "text/plain": [
       "    engine_displacement  num_cylinders  horsepower  vehicle_weight  \\\n",
       "8                   250            1.0       174.0     2714.219310   \n",
       "12                  320            5.0       145.0     2783.868974   \n",
       "\n",
       "    acceleration  model_year origin fuel_type         drivetrain  num_doors  \\\n",
       "8           10.3        2016   Asia    Diesel  Front-wheel drive       -1.0   \n",
       "12          15.1        2010   Asia    Diesel    All-wheel drive        1.0   \n",
       "\n",
       "    fuel_efficiency_mpg  \n",
       "8             16.823554  \n",
       "12            16.175820  "
      ]
     },
     "execution_count": 18,
     "metadata": {},
     "output_type": "execute_result"
    }
   ],
   "source": [
    "df_asia.head(2)"
   ]
  },
  {
   "cell_type": "code",
   "execution_count": 19,
   "id": "57721342-e717-462a-bf12-8656b239602c",
   "metadata": {},
   "outputs": [],
   "source": [
    "df_asia = df_asia [['vehicle_weight','model_year']]"
   ]
  },
  {
   "cell_type": "code",
   "execution_count": 20,
   "id": "bc49cea1-8d76-4627-b25f-7fccdbca609e",
   "metadata": {},
   "outputs": [],
   "source": [
    "df_asia = df_asia.reset_index(drop=True)"
   ]
  },
  {
   "cell_type": "code",
   "execution_count": 21,
   "id": "b1d8c040-4070-453c-9492-1f1e216173bb",
   "metadata": {},
   "outputs": [],
   "source": [
    "df_asia = df_asia.loc[: 6]"
   ]
  },
  {
   "cell_type": "code",
   "execution_count": 22,
   "id": "319f4441-87ed-4541-b756-a0bdaf0b5099",
   "metadata": {},
   "outputs": [
    {
     "data": {
      "text/plain": [
       "array([[2714.21930965, 2016.        ],\n",
       "       [2783.86897424, 2010.        ],\n",
       "       [3582.68736772, 2007.        ],\n",
       "       [2231.8081416 , 2011.        ],\n",
       "       [2659.43145076, 2016.        ],\n",
       "       [2844.22753389, 2014.        ],\n",
       "       [3761.99403819, 2019.        ]])"
      ]
     },
     "execution_count": 22,
     "metadata": {},
     "output_type": "execute_result"
    }
   ],
   "source": [
    "X = df_asia.values\n",
    "X"
   ]
  },
  {
   "cell_type": "code",
   "execution_count": 23,
   "id": "db2dedbc-421a-4ffb-834f-b6e8b15b9b5b",
   "metadata": {},
   "outputs": [
    {
     "data": {
      "text/plain": [
       "array([[2714.21930965, 2783.86897424, 3582.68736772, 2231.8081416 ,\n",
       "        2659.43145076, 2844.22753389, 3761.99403819],\n",
       "       [2016.        , 2010.        , 2007.        , 2011.        ,\n",
       "        2016.        , 2014.        , 2019.        ]])"
      ]
     },
     "execution_count": 23,
     "metadata": {},
     "output_type": "execute_result"
    }
   ],
   "source": [
    "X.T"
   ]
  },
  {
   "cell_type": "code",
   "execution_count": 24,
   "id": "c54a88df-13a0-44f6-9885-36fb6f7af069",
   "metadata": {},
   "outputs": [],
   "source": [
    "XTX = X.T.dot(X)"
   ]
  },
  {
   "cell_type": "code",
   "execution_count": 25,
   "id": "953978fd-b71b-4f3e-b65b-cbe414cf3b2e",
   "metadata": {},
   "outputs": [],
   "source": [
    "import numpy as np"
   ]
  },
  {
   "cell_type": "code",
   "execution_count": 26,
   "id": "78f5a9da-e7fa-4bde-84e4-00278ddfacc9",
   "metadata": {},
   "outputs": [],
   "source": [
    "XTX_inv = np.linalg.inv(XTX)"
   ]
  },
  {
   "cell_type": "code",
   "execution_count": 27,
   "id": "e465e1d8-9f00-4e15-b356-ee1d1b6881b8",
   "metadata": {},
   "outputs": [],
   "source": [
    "y = np.array([1100, 1300, 800, 900, 1000, 1100, 1200])"
   ]
  },
  {
   "cell_type": "code",
   "execution_count": 28,
   "id": "d0315cc4-d429-4880-841a-f6b85032aa4d",
   "metadata": {},
   "outputs": [],
   "source": [
    "Inv_por_T = XTX_inv.dot(X.T)"
   ]
  },
  {
   "cell_type": "code",
   "execution_count": 29,
   "id": "8f3c52a7-5ba8-4258-9e62-9abee721fde4",
   "metadata": {},
   "outputs": [
    {
     "data": {
      "text/plain": [
       "array([0.01386421, 0.5049067 ])"
      ]
     },
     "execution_count": 29,
     "metadata": {},
     "output_type": "execute_result"
    }
   ],
   "source": [
    "w = Inv_por_T.dot(y)\n",
    "w"
   ]
  },
  {
   "cell_type": "code",
   "execution_count": 30,
   "id": "f7c124a7-4d5c-44cb-9166-fd58f818b5d6",
   "metadata": {},
   "outputs": [
    {
     "data": {
      "text/plain": [
       "np.float64(0.5187709081074016)"
      ]
     },
     "execution_count": 30,
     "metadata": {},
     "output_type": "execute_result"
    }
   ],
   "source": [
    "sum(w)"
   ]
  },
  {
   "cell_type": "markdown",
   "id": "e164371c-6ce4-4f21-9a92-8d226eb2db57",
   "metadata": {},
   "source": [
    "R7: 0,51"
   ]
  }
 ],
 "metadata": {
  "kernelspec": {
   "display_name": "Python 3 (ipykernel)",
   "language": "python",
   "name": "python3"
  },
  "language_info": {
   "codemirror_mode": {
    "name": "ipython",
    "version": 3
   },
   "file_extension": ".py",
   "mimetype": "text/x-python",
   "name": "python",
   "nbconvert_exporter": "python",
   "pygments_lexer": "ipython3",
   "version": "3.12.1"
  }
 },
 "nbformat": 4,
 "nbformat_minor": 5
}
